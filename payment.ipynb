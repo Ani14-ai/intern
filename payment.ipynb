{
 "cells": [
  {
   "cell_type": "code",
   "execution_count": 4,
   "id": "3e88e53f",
   "metadata": {},
   "outputs": [
    {
     "name": "stdout",
     "output_type": "stream",
     "text": [
      "Enter your login ID: abc\n",
      "Enter your password: 1234\n",
      "Welcome! You are now logged in.\n"
     ]
    },
    {
     "name": "stderr",
     "output_type": "stream",
     "text": [
      "C:\\Users\\chatt\\AppData\\Local\\Temp\\ipykernel_23152\\265237711.py:26: DeprecationWarning: executable_path has been deprecated, please pass in a Service object\n",
      "  driver = webdriver.Chrome(executable_path='C:\\Program Files\\Google\\Chrome\\Application\\chromedriver.exe')\n"
     ]
    },
    {
     "name": "stdout",
     "output_type": "stream",
     "text": [
      "@ receipt\n",
      "\n",
      "€ © @ hdfcmmp\n",
      "\n",
      "Chrome is being controlled by automated test software\n",
      "\n",
      "Q Search\n",
      "\n",
      "smart:\n",
      "\n",
      "Thank You !\n",
      "\n",
      "Your transaction failed\n",
      "\n",
      "Status Date\n",
      "Failed 06-07-2023 15:21:59\n",
      "Payment Id Mode\n",
      "999999 Credit Card\n",
      "MINREFF_ID\n",
      "22042341688636978299\n",
      "\n",
      "Track_ID\n",
      "\n",
      "112932365600\n",
      "\n",
      "Amount Paid = 10.00\n",
      "\n"
     ]
    },
    {
     "name": "stderr",
     "output_type": "stream",
     "text": [
      "C:\\Users\\chatt\\AppData\\Local\\Temp\\ipykernel_23152\\265237711.py:26: DeprecationWarning: executable_path has been deprecated, please pass in a Service object\n",
      "  driver = webdriver.Chrome(executable_path='C:\\Program Files\\Google\\Chrome\\Application\\chromedriver.exe')\n"
     ]
    },
    {
     "ename": "NoSuchElementException",
     "evalue": "Message: no such element: Unable to locate element: {\"method\":\"css selector\",\"selector\":\"[id=\"creditCardNumber\"]\"}\n  (Session info: chrome=114.0.5735.199)\nStacktrace:\nBacktrace:\n\tGetHandleVerifier [0x00588893+48451]\n\t(No symbol) [0x0051B8A1]\n\t(No symbol) [0x00425058]\n\t(No symbol) [0x00450467]\n\t(No symbol) [0x0045069B]\n\t(No symbol) [0x0047DD92]\n\t(No symbol) [0x0046A304]\n\t(No symbol) [0x0047C482]\n\t(No symbol) [0x0046A0B6]\n\t(No symbol) [0x00447E08]\n\t(No symbol) [0x00448F2D]\n\tGetHandleVerifier [0x007E8E3A+2540266]\n\tGetHandleVerifier [0x00828959+2801161]\n\tGetHandleVerifier [0x0082295C+2776588]\n\tGetHandleVerifier [0x00612280+612144]\n\t(No symbol) [0x00524F6C]\n\t(No symbol) [0x005211D8]\n\t(No symbol) [0x005212BB]\n\t(No symbol) [0x00514857]\n\tBaseThreadInitThunk [0x76817D59+25]\n\tRtlInitializeExceptionChain [0x77B6B74B+107]\n\tRtlClearBits [0x77B6B6CF+191]\n",
     "output_type": "error",
     "traceback": [
      "\u001b[1;31m---------------------------------------------------------------------------\u001b[0m",
      "\u001b[1;31mNoSuchElementException\u001b[0m                    Traceback (most recent call last)",
      "Input \u001b[1;32mIn [4]\u001b[0m, in \u001b[0;36m<cell line: 84>\u001b[1;34m()\u001b[0m\n\u001b[0;32m     83\u001b[0m          \u001b[38;5;28mprint\u001b[39m(\u001b[38;5;124m\"\u001b[39m\u001b[38;5;124mPlease Enter a Valid username or password\u001b[39m\u001b[38;5;124m\"\u001b[39m)\n\u001b[0;32m     84\u001b[0m \u001b[38;5;28;01mif\u001b[39;00m \u001b[38;5;18m__name__\u001b[39m \u001b[38;5;241m==\u001b[39m \u001b[38;5;124m\"\u001b[39m\u001b[38;5;124m__main__\u001b[39m\u001b[38;5;124m\"\u001b[39m:\n\u001b[1;32m---> 85\u001b[0m     \u001b[43mmain\u001b[49m\u001b[43m(\u001b[49m\u001b[43m)\u001b[49m\n",
      "Input \u001b[1;32mIn [4]\u001b[0m, in \u001b[0;36mmain\u001b[1;34m()\u001b[0m\n\u001b[0;32m     27\u001b[0m entry\u001b[38;5;241m=\u001b[39mdf\u001b[38;5;241m.\u001b[39mloc[i]\n\u001b[0;32m     28\u001b[0m driver\u001b[38;5;241m.\u001b[39mget(entry[\u001b[38;5;124m'\u001b[39m\u001b[38;5;124mPAYMENT LINKS\u001b[39m\u001b[38;5;124m'\u001b[39m])\n\u001b[1;32m---> 29\u001b[0m card_no\u001b[38;5;241m=\u001b[39m\u001b[43mdriver\u001b[49m\u001b[38;5;241;43m.\u001b[39;49m\u001b[43mfind_element\u001b[49m\u001b[43m(\u001b[49m\u001b[43mBy\u001b[49m\u001b[38;5;241;43m.\u001b[39;49m\u001b[43mID\u001b[49m\u001b[43m,\u001b[49m\u001b[38;5;124;43m'\u001b[39;49m\u001b[38;5;124;43mcreditCardNumber\u001b[39;49m\u001b[38;5;124;43m'\u001b[39;49m\u001b[43m)\u001b[49m\n\u001b[0;32m     30\u001b[0m card_no\u001b[38;5;241m.\u001b[39msend_keys(\u001b[38;5;28mstr\u001b[39m(entry[\u001b[38;5;124m'\u001b[39m\u001b[38;5;124mCARDNO\u001b[39m\u001b[38;5;124m'\u001b[39m]))\n\u001b[0;32m     31\u001b[0m time\u001b[38;5;241m.\u001b[39msleep(\u001b[38;5;241m1\u001b[39m)\n",
      "File \u001b[1;32m~\\anaconda3\\lib\\site-packages\\selenium\\webdriver\\remote\\webdriver.py:831\u001b[0m, in \u001b[0;36mWebDriver.find_element\u001b[1;34m(self, by, value)\u001b[0m\n\u001b[0;32m    828\u001b[0m     by \u001b[38;5;241m=\u001b[39m By\u001b[38;5;241m.\u001b[39mCSS_SELECTOR\n\u001b[0;32m    829\u001b[0m     value \u001b[38;5;241m=\u001b[39m \u001b[38;5;124mf\u001b[39m\u001b[38;5;124m'\u001b[39m\u001b[38;5;124m[name=\u001b[39m\u001b[38;5;124m\"\u001b[39m\u001b[38;5;132;01m{\u001b[39;00mvalue\u001b[38;5;132;01m}\u001b[39;00m\u001b[38;5;124m\"\u001b[39m\u001b[38;5;124m]\u001b[39m\u001b[38;5;124m'\u001b[39m\n\u001b[1;32m--> 831\u001b[0m \u001b[38;5;28;01mreturn\u001b[39;00m \u001b[38;5;28;43mself\u001b[39;49m\u001b[38;5;241;43m.\u001b[39;49m\u001b[43mexecute\u001b[49m\u001b[43m(\u001b[49m\u001b[43mCommand\u001b[49m\u001b[38;5;241;43m.\u001b[39;49m\u001b[43mFIND_ELEMENT\u001b[49m\u001b[43m,\u001b[49m\u001b[43m \u001b[49m\u001b[43m{\u001b[49m\u001b[38;5;124;43m\"\u001b[39;49m\u001b[38;5;124;43musing\u001b[39;49m\u001b[38;5;124;43m\"\u001b[39;49m\u001b[43m:\u001b[49m\u001b[43m \u001b[49m\u001b[43mby\u001b[49m\u001b[43m,\u001b[49m\u001b[43m \u001b[49m\u001b[38;5;124;43m\"\u001b[39;49m\u001b[38;5;124;43mvalue\u001b[39;49m\u001b[38;5;124;43m\"\u001b[39;49m\u001b[43m:\u001b[49m\u001b[43m \u001b[49m\u001b[43mvalue\u001b[49m\u001b[43m}\u001b[49m\u001b[43m)\u001b[49m[\u001b[38;5;124m\"\u001b[39m\u001b[38;5;124mvalue\u001b[39m\u001b[38;5;124m\"\u001b[39m]\n",
      "File \u001b[1;32m~\\anaconda3\\lib\\site-packages\\selenium\\webdriver\\remote\\webdriver.py:440\u001b[0m, in \u001b[0;36mWebDriver.execute\u001b[1;34m(self, driver_command, params)\u001b[0m\n\u001b[0;32m    438\u001b[0m response \u001b[38;5;241m=\u001b[39m \u001b[38;5;28mself\u001b[39m\u001b[38;5;241m.\u001b[39mcommand_executor\u001b[38;5;241m.\u001b[39mexecute(driver_command, params)\n\u001b[0;32m    439\u001b[0m \u001b[38;5;28;01mif\u001b[39;00m response:\n\u001b[1;32m--> 440\u001b[0m     \u001b[38;5;28;43mself\u001b[39;49m\u001b[38;5;241;43m.\u001b[39;49m\u001b[43merror_handler\u001b[49m\u001b[38;5;241;43m.\u001b[39;49m\u001b[43mcheck_response\u001b[49m\u001b[43m(\u001b[49m\u001b[43mresponse\u001b[49m\u001b[43m)\u001b[49m\n\u001b[0;32m    441\u001b[0m     response[\u001b[38;5;124m\"\u001b[39m\u001b[38;5;124mvalue\u001b[39m\u001b[38;5;124m\"\u001b[39m] \u001b[38;5;241m=\u001b[39m \u001b[38;5;28mself\u001b[39m\u001b[38;5;241m.\u001b[39m_unwrap_value(response\u001b[38;5;241m.\u001b[39mget(\u001b[38;5;124m\"\u001b[39m\u001b[38;5;124mvalue\u001b[39m\u001b[38;5;124m\"\u001b[39m, \u001b[38;5;28;01mNone\u001b[39;00m))\n\u001b[0;32m    442\u001b[0m     \u001b[38;5;28;01mreturn\u001b[39;00m response\n",
      "File \u001b[1;32m~\\anaconda3\\lib\\site-packages\\selenium\\webdriver\\remote\\errorhandler.py:245\u001b[0m, in \u001b[0;36mErrorHandler.check_response\u001b[1;34m(self, response)\u001b[0m\n\u001b[0;32m    243\u001b[0m         alert_text \u001b[38;5;241m=\u001b[39m value[\u001b[38;5;124m\"\u001b[39m\u001b[38;5;124malert\u001b[39m\u001b[38;5;124m\"\u001b[39m]\u001b[38;5;241m.\u001b[39mget(\u001b[38;5;124m\"\u001b[39m\u001b[38;5;124mtext\u001b[39m\u001b[38;5;124m\"\u001b[39m)\n\u001b[0;32m    244\u001b[0m     \u001b[38;5;28;01mraise\u001b[39;00m exception_class(message, screen, stacktrace, alert_text)  \u001b[38;5;66;03m# type: ignore[call-arg]  # mypy is not smart enough here\u001b[39;00m\n\u001b[1;32m--> 245\u001b[0m \u001b[38;5;28;01mraise\u001b[39;00m exception_class(message, screen, stacktrace)\n",
      "\u001b[1;31mNoSuchElementException\u001b[0m: Message: no such element: Unable to locate element: {\"method\":\"css selector\",\"selector\":\"[id=\"creditCardNumber\"]\"}\n  (Session info: chrome=114.0.5735.199)\nStacktrace:\nBacktrace:\n\tGetHandleVerifier [0x00588893+48451]\n\t(No symbol) [0x0051B8A1]\n\t(No symbol) [0x00425058]\n\t(No symbol) [0x00450467]\n\t(No symbol) [0x0045069B]\n\t(No symbol) [0x0047DD92]\n\t(No symbol) [0x0046A304]\n\t(No symbol) [0x0047C482]\n\t(No symbol) [0x0046A0B6]\n\t(No symbol) [0x00447E08]\n\t(No symbol) [0x00448F2D]\n\tGetHandleVerifier [0x007E8E3A+2540266]\n\tGetHandleVerifier [0x00828959+2801161]\n\tGetHandleVerifier [0x0082295C+2776588]\n\tGetHandleVerifier [0x00612280+612144]\n\t(No symbol) [0x00524F6C]\n\t(No symbol) [0x005211D8]\n\t(No symbol) [0x005212BB]\n\t(No symbol) [0x00514857]\n\tBaseThreadInitThunk [0x76817D59+25]\n\tRtlInitializeExceptionChain [0x77B6B74B+107]\n\tRtlClearBits [0x77B6B6CF+191]\n"
     ]
    }
   ],
   "source": [
    "def authenticate():\n",
    "    login_id = input(\"Enter your login ID: \")\n",
    "    password = input(\"Enter your password: \")\n",
    "    correct_login_id = \"abc\"\n",
    "    correct_password = \"1234\"\n",
    "    if login_id == correct_login_id and password == correct_password:\n",
    "        return True\n",
    "    else:\n",
    "        return False\n",
    "def main():\n",
    "     if authenticate():\n",
    "        print(\"Welcome! You are now logged in.\")\n",
    "        import pandas as pd\n",
    "        df=pd.read_excel(\"C:\\\\Users\\chatt\\Desktop\\internship\\intern.xlsx\")\n",
    "        df.head(15)\n",
    "        from selenium import webdriver\n",
    "        from selenium.webdriver.common.keys import Keys\n",
    "        from selenium.webdriver.chrome.service import Service\n",
    "        from selenium.webdriver.common.by import By\n",
    "        import time\n",
    "        from PIL import ImageGrab,Image\n",
    "        import pytesseract as tess\n",
    "        import re\n",
    "        for i in df.index:\n",
    "            time.sleep(5)\n",
    "            driver = webdriver.Chrome(executable_path='C:\\Program Files\\Google\\Chrome\\Application\\chromedriver.exe')\n",
    "            entry=df.loc[i]\n",
    "            driver.get(entry['PAYMENT LINKS'])\n",
    "            card_no=driver.find_element(By.ID,'creditCardNumber')\n",
    "            card_no.send_keys(str(entry['CARDNO']))\n",
    "            time.sleep(1)\n",
    "            exp_mon=driver.find_element(By.ID,'expiryMonthCreditCard')\n",
    "            exp_mon.send_keys('Apr(04)')\n",
    "            time.sleep(1)\n",
    "            exp_yr=driver.find_element(By.ID,'expiryYearCreditCard')\n",
    "            exp_yr.send_keys('2024')\n",
    "            time.sleep(1)\n",
    "            cvv_no=driver.find_element(By.ID,'CVVNumberCreditCard')\n",
    "            cvv_no.send_keys(str(entry['CVV']))\n",
    "            time.sleep(1)\n",
    "            mp=driver.find_element(By.ID,'SubmitBillShip')\n",
    "            mp.click()\n",
    "            ipin=driver.find_element(By.ID,'txtipin')\n",
    "            ipin.send_keys(str(entry['IPIN']))\n",
    "            time.sleep(1)\n",
    "            sub=driver.find_element(By.ID,'btnverify')\n",
    "            sub.click()\n",
    "            time.sleep(10)\n",
    "            im=ImageGrab.grab()\n",
    "            im.save(\"ss.png\")\n",
    "            tess.pytesseract.tesseract_cmd=r\"C:\\\\Users\\chatt\\AppData\\Local\\Programs\\Tesseract-OCR\\tesseract.exe\"\n",
    "            text=tess.image_to_string(im)\n",
    "            print(text)\n",
    "            transaction_info={}\n",
    "            status_match = re.search(r\"Status Date\\n(\\w+)\", text)\n",
    "            if status_match:\n",
    "                transaction_info[\"Status\"] = status_match.group(1)\n",
    "            else:\n",
    "                transaction_info[\"Status\"] = None\n",
    "            datetime_match = re.search(r\"Failed (\\d{2}-\\d{2}-\\d{4}) (\\d{2}:\\d{2}:\\d{2})\", text)\n",
    "            if datetime_match:\n",
    "                transaction_info[\"Date\"] = datetime_match.group(1)\n",
    "                transaction_info[\"Time\"] = datetime_match.group(2)\n",
    "            else:\n",
    "                transaction_info[\"Date\"] = None\n",
    "                transaction_info[\"Time\"] = None\n",
    "            minreff_match = re.search(r\"MINREFF_ID\\n([\\d]+)\", text)\n",
    "            if minreff_match:\n",
    "                transaction_info[\"MINREFF ID\"] = minreff_match.group(1)\n",
    "            else:\n",
    "                transaction_info[\"MINREFF ID\"] = None\n",
    "            track_id_match = re.search(r\"Track_ID\\n\\n([\\d]+)\", text)\n",
    "            if track_id_match:\n",
    "                transaction_info[\"Track ID\"] = track_id_match.group(1)\n",
    "            else:\n",
    "                transaction_info[\"Track ID\"] = None\n",
    "\n",
    "            new_df = pd.DataFrame([transaction_info])\n",
    "            merged_df = df.join(new_df)\n",
    "            merged_df.to_excel(\"C:\\\\Users\\\\chatt\\\\Desktop\\\\internship\\\\intern.xlsx\", index=False)\n",
    "            merged_df.head()\n",
    "     else:\n",
    "         print(\"Please Enter a Valid username or password\")\n",
    "if __name__ == \"__main__\":\n",
    "    main()\n",
    "        "
   ]
  },
  {
   "cell_type": "code",
   "execution_count": 2,
   "id": "813ee1e8",
   "metadata": {},
   "outputs": [
    {
     "ename": "NameError",
     "evalue": "name 'df' is not defined",
     "output_type": "error",
     "traceback": [
      "\u001b[1;31m---------------------------------------------------------------------------\u001b[0m",
      "\u001b[1;31mNameError\u001b[0m                                 Traceback (most recent call last)",
      "Input \u001b[1;32mIn [2]\u001b[0m, in \u001b[0;36m<cell line: 1>\u001b[1;34m()\u001b[0m\n\u001b[1;32m----> 1\u001b[0m \u001b[43mdf\u001b[49m\u001b[38;5;241m.\u001b[39mhead()\n",
      "\u001b[1;31mNameError\u001b[0m: name 'df' is not defined"
     ]
    }
   ],
   "source": [
    "df.head()"
   ]
  },
  {
   "cell_type": "code",
   "execution_count": 8,
   "id": "29e67dda",
   "metadata": {},
   "outputs": [],
   "source": [
    "text=\"\"\"@ receipt\n",
    "\n",
    "€ © @ hdfcmmp\n",
    "\n",
    "Chrome is being controlled by automated test software\n",
    "\n",
    "Q Search\n",
    "\n",
    "smart:\n",
    "\n",
    "Thank You !\n",
    "\n",
    "Your transaction failed\n",
    "\n",
    "Status Date\n",
    "Failed 05-07-2023 21:47:50\n",
    "Payment Id Mode\n",
    "999999 Credit Card\n",
    "MINREFF_ID\n",
    "11853941688573614186\n",
    "\n",
    "Track_ID\n",
    "\n",
    "112931685684\n",
    "\n",
    "Amount Paid = 10.00\"\"\""
   ]
  },
  {
   "cell_type": "code",
   "execution_count": null,
   "id": "c76fbd9e",
   "metadata": {},
   "outputs": [],
   "source": []
  }
 ],
 "metadata": {
  "kernelspec": {
   "display_name": "Python 3 (ipykernel)",
   "language": "python",
   "name": "python3"
  },
  "language_info": {
   "codemirror_mode": {
    "name": "ipython",
    "version": 3
   },
   "file_extension": ".py",
   "mimetype": "text/x-python",
   "name": "python",
   "nbconvert_exporter": "python",
   "pygments_lexer": "ipython3",
   "version": "3.9.12"
  }
 },
 "nbformat": 4,
 "nbformat_minor": 5
}
